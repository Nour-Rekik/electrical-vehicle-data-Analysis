{
  "cells": [
    {
      "cell_type": "markdown",
      "metadata": {
        "id": "view-in-github",
        "colab_type": "text"
      },
      "source": [
        "<a href=\"https://colab.research.google.com/github/Nour-Rekik/electrical-vehicle-data-Analysis/blob/main/electrical_car_test.ipynb\" target=\"_parent\"><img src=\"https://colab.research.google.com/assets/colab-badge.svg\" alt=\"Open In Colab\"/></a>"
      ]
    },
    {
      "cell_type": "markdown",
      "source": [
        "# **Python code for electric vehicle data analysis**. \n",
        "Since our dataset is a semi-structured dataset, we need PySpark to process this data. So let's install Pyspark"
      ],
      "metadata": {
        "id": "IJ4z66XUYhVS"
      },
      "id": "IJ4z66XUYhVS"
    },
    {
      "cell_type": "code",
      "execution_count": 1,
      "metadata": {
        "colab": {
          "base_uri": "https://localhost:8080/"
        },
        "id": "9GTlKgnjzXA6",
        "outputId": "9140d96f-4ba5-4ece-fbbd-809bb31a5eea"
      },
      "outputs": [
        {
          "output_type": "stream",
          "name": "stdout",
          "text": [
            "Collecting pyspark\n",
            "  Downloading pyspark-3.2.1.tar.gz (281.4 MB)\n",
            "\u001b[K     |████████████████████████████████| 281.4 MB 24 kB/s \n",
            "\u001b[?25hCollecting py4j==0.10.9.3\n",
            "  Downloading py4j-0.10.9.3-py2.py3-none-any.whl (198 kB)\n",
            "\u001b[K     |████████████████████████████████| 198 kB 50.9 MB/s \n",
            "\u001b[?25hBuilding wheels for collected packages: pyspark\n",
            "  Building wheel for pyspark (setup.py) ... \u001b[?25l\u001b[?25hdone\n",
            "  Created wheel for pyspark: filename=pyspark-3.2.1-py2.py3-none-any.whl size=281853642 sha256=fec5ed4a2c12788e8c9fc760fb9f7cf6951d72f7bdf6d30ba68b9c31bbe87dec\n",
            "  Stored in directory: /root/.cache/pip/wheels/9f/f5/07/7cd8017084dce4e93e84e92efd1e1d5334db05f2e83bcef74f\n",
            "Successfully built pyspark\n",
            "Installing collected packages: py4j, pyspark\n",
            "Successfully installed py4j-0.10.9.3 pyspark-3.2.1\n"
          ]
        }
      ],
      "source": [
        "!pip install pyspark"
      ],
      "id": "9GTlKgnjzXA6"
    },
    {
      "cell_type": "markdown",
      "source": [
        "First, we need to import some basic libraries."
      ],
      "metadata": {
        "id": "wRgYaSc_ax9y"
      },
      "id": "wRgYaSc_ax9y"
    },
    {
      "cell_type": "code",
      "execution_count": 2,
      "metadata": {
        "id": "28c75012"
      },
      "outputs": [],
      "source": [
        "import pandas as pd\n",
        "import seaborn as sns\n",
        "import matplotlib.pyplot as plt\n",
        "from pyspark.sql import SparkSession\n",
        "from pyspark.sql.functions import col\n",
        "from pyspark.sql.types import NullType\n",
        "import pyspark.sql.functions as f\n",
        "import numpy as np\n"
      ],
      "id": "28c75012"
    },
    {
      "cell_type": "markdown",
      "source": [
        "Now we need to connect to the Drive to get access to the Data "
      ],
      "metadata": {
        "id": "A_JAF4acbOIh"
      },
      "id": "A_JAF4acbOIh"
    },
    {
      "cell_type": "code",
      "execution_count": 3,
      "metadata": {
        "colab": {
          "base_uri": "https://localhost:8080/"
        },
        "id": "ZEHWpAzd0iTr",
        "outputId": "bd651cba-f934-499f-9548-85ed34c81301"
      },
      "outputs": [
        {
          "output_type": "stream",
          "name": "stdout",
          "text": [
            "Mounted at /content/drive\n"
          ]
        }
      ],
      "source": [
        "from google.colab import drive\n",
        "drive.mount('/content/drive')"
      ],
      "id": "ZEHWpAzd0iTr"
    },
    {
      "cell_type": "markdown",
      "source": [
        "Creating Spark Session "
      ],
      "metadata": {
        "id": "k-eIie2hbmEp"
      },
      "id": "k-eIie2hbmEp"
    },
    {
      "cell_type": "code",
      "execution_count": 4,
      "metadata": {
        "id": "65307649"
      },
      "outputs": [],
      "source": [
        "spark1 = SparkSession.builder.appName('clever').getOrCreate()"
      ],
      "id": "65307649"
    },
    {
      "cell_type": "markdown",
      "source": [
        "# **Importing the Data**\n",
        "\n"
      ],
      "metadata": {
        "id": "cuJOywqXbwuS"
      },
      "id": "cuJOywqXbwuS"
    },
    {
      "cell_type": "code",
      "execution_count": 5,
      "metadata": {
        "id": "a6f62201"
      },
      "outputs": [],
      "source": [
        "data_df =spark1.read.json(\"/content/drive/MyDrive/test_data.json\")"
      ],
      "id": "a6f62201"
    },
    {
      "cell_type": "code",
      "execution_count": null,
      "metadata": {
        "colab": {
          "base_uri": "https://localhost:8080/"
        },
        "id": "9abd64e7",
        "outputId": "62a83b03-af3e-41aa-98ef-a93cb8c57581"
      },
      "outputs": [
        {
          "output_type": "stream",
          "name": "stdout",
          "text": [
            "+--------------------+--------------+--------------------+--------------------+--------------------+--------------------+--------------------+\n",
            "|        basicCarInfo|bodyAndChassis|             climate|          driveState|              eMotor|             metaObd|           timestamp|\n",
            "+--------------------+--------------+--------------------+--------------------+--------------------+--------------------+--------------------+\n",
            "|{[[35511.0, 1.624...|          null|{null, [[23.09999...|{[[551.4020385742...|{[[32, 1624541233...|{null, null, ac:6...|2021-06-24 13:27:...|\n",
            "|{[[35511.0, 1.624...|          null|{null, [[23.09999...|{[[553.2650146484...|{[[32, 1624541256...|{null, null, ac:6...|2021-06-24 13:27:...|\n",
            "|{[[35511.0, 1.624...|          null|{null, [[23.09999...|{[[549.7109985351...|{[[32, 1624541278...|{null, null, ac:6...|2021-06-24 13:28:...|\n",
            "|{[[35511.0, 1.624...|          null|{null, [[23.09999...|{[[548.75, 1.6245...|{[[31, 1624541300...|{null, null, ac:6...|2021-06-24 13:28:...|\n",
            "|{[[35511.0, 1.624...|          null|{null, [[23.09999...|{[[579.1690063476...|{[[30, 1624541322...|{null, null, ac:6...|2021-06-24 13:28:...|\n",
            "|{[[35511.0, 1.624...|          null|{null, [[23.20000...|{[[571.9260253906...|{[[32, 1624541344...|{null, null, ac:6...|2021-06-24 13:29:...|\n",
            "|{[[35511.0, 1.624...|          null|{null, [[23.20000...|{[[571.2780151367...|{null, [[15.8, 1....|{null, null, ac:6...|2021-06-24 13:29:...|\n",
            "|                null|          null|{null, null, [[23...|{[[575.3880004882...|{[[32, 1624541366...|{null, null, ac:6...|2021-06-24 13:29:...|\n",
            "|{[[35511.0, 1.624...|          null|{null, [[23.20000...|{[[574.4630126953...|{[[29, 1624541388...|{null, null, ac:6...|2021-06-24 13:30:...|\n",
            "|{[[35511.0, 1.624...|          null|{null, [[23.29999...|{[[580.5180053710...|{[[32, 1624541411...|{null, null, ac:6...|2021-06-24 13:30:...|\n",
            "|{[[35511.0, 1.624...|          null|{null, [[23.29999...|{[[591.0940551757...|{[[33, 1624541433...|{null, null, ac:6...|2021-06-24 13:30:...|\n",
            "|{[[35511.0, 1.624...|          null|{null, [[23.29999...|{[[588.873046875,...|{[[33, 1624541455...|{null, null, ac:6...|2021-06-24 13:31:...|\n",
            "|{[[35512.0, 1.624...|          null|{null, [[23.40000...|{[[585.75, 1.6245...|{[[33, 1624541477...|{null, null, ac:6...|2021-06-24 13:31:...|\n",
            "|{[[35512.0, 1.624...|          null|{null, [[23.40000...|{[[581.5120239257...|{[[34, 1624541499...|{null, null, ac:6...|2021-06-24 13:31:...|\n",
            "|{[[35512.0, 1.624...|          null|{null, [[23.5, 1....|{[[580.8380126953...|{[[34, 1624541522...|{null, null, ac:6...|2021-06-24 13:32:...|\n",
            "|{[[35512.0, 1.624...|          null|{null, [[23.5, 1....|{[[576.9000244140...|{[[35, 1624541544...|{null, null, ac:6...|2021-06-24 13:32:...|\n",
            "|{[[35512.0, 1.624...|          null|{null, [[23.59999...|{[[577.0290527343...|{[[35, 1624541566...|{null, null, ac:6...|2021-06-24 13:32:...|\n",
            "|{[[35512.0, 1.624...|          null|                null|{[[573.1300048828...|{null, [[5.4, 1.6...|{null, null, ac:6...|2021-06-24 13:33:...|\n",
            "|                null|          null|{null, [[23.59999...|                null|{[[35, 1624541588...|{null, null, ac:6...|2021-06-24 13:33:...|\n",
            "|{[[35512.0, 1.624...|          null|{null, [[23.59999...|{[[574.3610229492...|{[[36, 1624541610...|{null, null, ac:6...|2021-06-24 13:33:...|\n",
            "+--------------------+--------------+--------------------+--------------------+--------------------+--------------------+--------------------+\n",
            "only showing top 20 rows\n",
            "\n"
          ]
        }
      ],
      "source": [
        "data_df.show()"
      ],
      "id": "9abd64e7"
    },
    {
      "cell_type": "markdown",
      "source": [
        "Let's have a look to the schema of the Data Set and to get an idea about the type of the columns "
      ],
      "metadata": {
        "id": "Sup_vD5Gcedh"
      },
      "id": "Sup_vD5Gcedh"
    },
    {
      "cell_type": "code",
      "execution_count": null,
      "metadata": {
        "colab": {
          "base_uri": "https://localhost:8080/"
        },
        "id": "1b15bcfb",
        "outputId": "adb9b6d8-06f9-4f00-8773-690538a67f34"
      },
      "outputs": [
        {
          "name": "stdout",
          "output_type": "stream",
          "text": [
            "root\n",
            " |-- basicCarInfo: struct (nullable = true)\n",
            " |    |-- odoMeter: array (nullable = true)\n",
            " |    |    |-- element: array (containsNull = true)\n",
            " |    |    |    |-- element: double (containsNull = true)\n",
            " |    |-- vin: array (nullable = true)\n",
            " |    |    |-- element: array (containsNull = true)\n",
            " |    |    |    |-- element: string (containsNull = true)\n",
            " |-- bodyAndChassis: struct (nullable = true)\n",
            " |    |-- doorBlOpen: array (nullable = true)\n",
            " |    |    |-- element: array (containsNull = true)\n",
            " |    |    |    |-- element: long (containsNull = true)\n",
            " |    |-- doorBrOpen: array (nullable = true)\n",
            " |    |    |-- element: array (containsNull = true)\n",
            " |    |    |    |-- element: long (containsNull = true)\n",
            " |    |-- doorFlOpen: array (nullable = true)\n",
            " |    |    |-- element: array (containsNull = true)\n",
            " |    |    |    |-- element: long (containsNull = true)\n",
            " |    |-- doorFrOpen: array (nullable = true)\n",
            " |    |    |-- element: array (containsNull = true)\n",
            " |    |    |    |-- element: long (containsNull = true)\n",
            " |    |-- frontTrunkOpen: array (nullable = true)\n",
            " |    |    |-- element: array (containsNull = true)\n",
            " |    |    |    |-- element: long (containsNull = true)\n",
            " |    |-- locked: array (nullable = true)\n",
            " |    |    |-- element: array (containsNull = true)\n",
            " |    |    |    |-- element: long (containsNull = true)\n",
            " |    |-- trunkOpen: array (nullable = true)\n",
            " |    |    |-- element: array (containsNull = true)\n",
            " |    |    |    |-- element: long (containsNull = true)\n",
            " |    |-- windowBlOpen: array (nullable = true)\n",
            " |    |    |-- element: array (containsNull = true)\n",
            " |    |    |    |-- element: long (containsNull = true)\n",
            " |    |-- windowBrOpen: array (nullable = true)\n",
            " |    |    |-- element: array (containsNull = true)\n",
            " |    |    |    |-- element: long (containsNull = true)\n",
            " |    |-- windowFlOpen: array (nullable = true)\n",
            " |    |    |-- element: array (containsNull = true)\n",
            " |    |    |    |-- element: long (containsNull = true)\n",
            " |    |-- windowFrOpen: array (nullable = true)\n",
            " |    |    |-- element: array (containsNull = true)\n",
            " |    |    |    |-- element: long (containsNull = true)\n",
            " |-- climate: struct (nullable = true)\n",
            " |    |-- acCompressorOn: array (nullable = true)\n",
            " |    |    |-- element: array (containsNull = true)\n",
            " |    |    |    |-- element: long (containsNull = true)\n",
            " |    |-- insideActualTemp: array (nullable = true)\n",
            " |    |    |-- element: array (containsNull = true)\n",
            " |    |    |    |-- element: double (containsNull = true)\n",
            " |    |-- outsideAirTemp: array (nullable = true)\n",
            " |    |    |-- element: array (containsNull = true)\n",
            " |    |    |    |-- element: double (containsNull = true)\n",
            " |-- driveState: struct (nullable = true)\n",
            " |    |-- altitude: array (nullable = true)\n",
            " |    |    |-- element: array (containsNull = true)\n",
            " |    |    |    |-- element: double (containsNull = true)\n",
            " |    |-- ignitionOn: array (nullable = true)\n",
            " |    |    |-- element: array (containsNull = true)\n",
            " |    |    |    |-- element: long (containsNull = true)\n",
            " |    |-- latitude: array (nullable = true)\n",
            " |    |    |-- element: array (containsNull = true)\n",
            " |    |    |    |-- element: double (containsNull = true)\n",
            " |    |-- longitude: array (nullable = true)\n",
            " |    |    |-- element: array (containsNull = true)\n",
            " |    |    |    |-- element: double (containsNull = true)\n",
            " |    |-- speed: array (nullable = true)\n",
            " |    |    |-- element: array (containsNull = true)\n",
            " |    |    |    |-- element: double (containsNull = true)\n",
            " |-- eMotor: struct (nullable = true)\n",
            " |    |-- dcDcConverterTemp: array (nullable = true)\n",
            " |    |    |-- element: array (containsNull = true)\n",
            " |    |    |    |-- element: long (containsNull = true)\n",
            " |    |-- eMotorActualCurrent: array (nullable = true)\n",
            " |    |    |-- element: array (containsNull = true)\n",
            " |    |    |    |-- element: double (containsNull = true)\n",
            " |    |-- eMotorTemp: array (nullable = true)\n",
            " |    |    |-- element: array (containsNull = true)\n",
            " |    |    |    |-- element: double (containsNull = true)\n",
            " |    |-- hvAvailableChargePower: array (nullable = true)\n",
            " |    |    |-- element: array (containsNull = true)\n",
            " |    |    |    |-- element: double (containsNull = true)\n",
            " |    |-- hvAvailableDischargePower: array (nullable = true)\n",
            " |    |    |-- element: array (containsNull = true)\n",
            " |    |    |    |-- element: double (containsNull = true)\n",
            " |    |-- hvBatteryCurrent: array (nullable = true)\n",
            " |    |    |-- element: array (containsNull = true)\n",
            " |    |    |    |-- element: double (containsNull = true)\n",
            " |    |-- hvBatteryTemp: array (nullable = true)\n",
            " |    |    |-- element: array (containsNull = true)\n",
            " |    |    |    |-- element: double (containsNull = true)\n",
            " |    |-- hvBatteryTempAvg: array (nullable = true)\n",
            " |    |    |-- element: array (containsNull = true)\n",
            " |    |    |    |-- element: double (containsNull = true)\n",
            " |    |-- hvBatteryTempMax: array (nullable = true)\n",
            " |    |    |-- element: array (containsNull = true)\n",
            " |    |    |    |-- element: double (containsNull = true)\n",
            " |    |-- hvBatteryTempMin: array (nullable = true)\n",
            " |    |    |-- element: array (containsNull = true)\n",
            " |    |    |    |-- element: double (containsNull = true)\n",
            " |    |-- hvBatteryVoltage: array (nullable = true)\n",
            " |    |    |-- element: array (containsNull = true)\n",
            " |    |    |    |-- element: double (containsNull = true)\n",
            " |    |-- hvCellDeviationVoltage: array (nullable = true)\n",
            " |    |    |-- element: array (containsNull = true)\n",
            " |    |    |    |-- element: double (containsNull = true)\n",
            " |    |-- hvCellSocMax: array (nullable = true)\n",
            " |    |    |-- element: array (containsNull = true)\n",
            " |    |    |    |-- element: double (containsNull = true)\n",
            " |    |-- hvCellSocMin: array (nullable = true)\n",
            " |    |    |-- element: array (containsNull = true)\n",
            " |    |    |    |-- element: double (containsNull = true)\n",
            " |    |-- hvCellVoltageAvg: array (nullable = true)\n",
            " |    |    |-- element: array (containsNull = true)\n",
            " |    |    |    |-- element: double (containsNull = true)\n",
            " |    |-- hvCellVoltageMax: array (nullable = true)\n",
            " |    |    |-- element: array (containsNull = true)\n",
            " |    |    |    |-- element: double (containsNull = true)\n",
            " |    |-- hvCellVoltageMin: array (nullable = true)\n",
            " |    |    |-- element: array (containsNull = true)\n",
            " |    |    |    |-- element: double (containsNull = true)\n",
            " |    |-- hvCellVoltages: array (nullable = true)\n",
            " |    |    |-- element: array (containsNull = true)\n",
            " |    |    |    |-- element: string (containsNull = true)\n",
            " |    |-- hvChargePhasen: array (nullable = true)\n",
            " |    |    |-- element: array (containsNull = true)\n",
            " |    |    |    |-- element: long (containsNull = true)\n",
            " |    |-- hvChargePower: array (nullable = true)\n",
            " |    |    |-- element: array (containsNull = true)\n",
            " |    |    |    |-- element: long (containsNull = true)\n",
            " |    |-- hvChargeTimeToFullManufacturer: array (nullable = true)\n",
            " |    |    |-- element: array (containsNull = true)\n",
            " |    |    |    |-- element: long (containsNull = true)\n",
            " |    |-- hvCoolingTemp: array (nullable = true)\n",
            " |    |    |-- element: array (containsNull = true)\n",
            " |    |    |    |-- element: double (containsNull = true)\n",
            " |    |-- hvPowerElectronicTemp: array (nullable = true)\n",
            " |    |    |-- element: array (containsNull = true)\n",
            " |    |    |    |-- element: long (containsNull = true)\n",
            " |    |-- hvSocActualBms: array (nullable = true)\n",
            " |    |    |-- element: array (containsNull = true)\n",
            " |    |    |    |-- element: double (containsNull = true)\n",
            " |    |-- hvSocActualDisplay: array (nullable = true)\n",
            " |    |    |-- element: array (containsNull = true)\n",
            " |    |    |    |-- element: double (containsNull = true)\n",
            " |    |-- hvStateOfHealth: array (nullable = true)\n",
            " |    |    |-- element: array (containsNull = true)\n",
            " |    |    |    |-- element: long (containsNull = true)\n",
            " |    |-- rangeManufacturer: array (nullable = true)\n",
            " |    |    |-- element: array (containsNull = true)\n",
            " |    |    |    |-- element: double (containsNull = true)\n",
            " |    |-- rpmEmotor: array (nullable = true)\n",
            " |    |    |-- element: array (containsNull = true)\n",
            " |    |    |    |-- element: long (containsNull = true)\n",
            " |-- metaObd: struct (nullable = true)\n",
            " |    |-- eCUversionHW: string (nullable = true)\n",
            " |    |-- eCUversionSW: array (nullable = true)\n",
            " |    |    |-- element: array (containsNull = true)\n",
            " |    |    |    |-- element: string (containsNull = true)\n",
            " |    |-- id: string (nullable = true)\n",
            " |    |-- state: array (nullable = true)\n",
            " |    |    |-- element: array (containsNull = true)\n",
            " |    |    |    |-- element: string (containsNull = true)\n",
            " |    |-- timestamp: long (nullable = true)\n",
            " |-- timestamp: string (nullable = true)\n",
            "\n"
          ]
        }
      ],
      "source": [
        "data_df.printSchema()"
      ],
      "id": "1b15bcfb"
    },
    {
      "cell_type": "markdown",
      "source": [
        "# **Exploratory Data Analysis**"
      ],
      "metadata": {
        "id": "l4pWhce2eW9B"
      },
      "id": "l4pWhce2eW9B"
    },
    {
      "cell_type": "markdown",
      "source": [
        "Number of samples"
      ],
      "metadata": {
        "id": "Xkm55wO4dv6Q"
      },
      "id": "Xkm55wO4dv6Q"
    },
    {
      "cell_type": "code",
      "execution_count": null,
      "metadata": {
        "colab": {
          "base_uri": "https://localhost:8080/"
        },
        "id": "3c7be898",
        "outputId": "d72bef9d-d433-4e66-f188-a4f290d9fe7e"
      },
      "outputs": [
        {
          "output_type": "stream",
          "name": "stdout",
          "text": [
            "Our DataSet contain 720139 sample \n"
          ]
        }
      ],
      "source": [
        "n= data_df.count()\n",
        "print (\"Our DataSet contain {} sample \".format(n))"
      ],
      "id": "3c7be898"
    },
    {
      "cell_type": "markdown",
      "source": [
        "List of the Columns "
      ],
      "metadata": {
        "id": "VVlYZWUwd0k_"
      },
      "id": "VVlYZWUwd0k_"
    },
    {
      "cell_type": "code",
      "execution_count": null,
      "metadata": {
        "colab": {
          "base_uri": "https://localhost:8080/"
        },
        "id": "900c13f9",
        "outputId": "eb3b26ee-90a4-460e-df50-e0c8ce35a484"
      },
      "outputs": [
        {
          "output_type": "stream",
          "name": "stdout",
          "text": [
            "There are 7 columns in the eClever DataFrame and their names are ['basicCarInfo', 'bodyAndChassis', 'climate', 'driveState', 'eMotor', 'metaObd', 'timestamp']\n"
          ]
        }
      ],
      "source": [
        "print(\"There are {} columns in the eClever DataFrame and their names are {}\".format(len(data_df.columns), data_df.columns))"
      ],
      "id": "900c13f9"
    },
    {
      "cell_type": "markdown",
      "source": [
        "Since we have 6 vehicle models, let's calculate the number of vehicles in each model"
      ],
      "metadata": {
        "id": "MYPFRHS_f7Ey"
      },
      "id": "MYPFRHS_f7Ey"
    },
    {
      "cell_type": "code",
      "execution_count": null,
      "metadata": {
        "colab": {
          "base_uri": "https://localhost:8080/",
          "height": 265
        },
        "id": "_Kkf6SoRypDI",
        "outputId": "fe2292a7-af12-49e8-cf5c-6d3fc093b327"
      },
      "outputs": [
        {
          "output_type": "display_data",
          "data": {
            "text/plain": [
              "<Figure size 432x288 with 1 Axes>"
            ],
            "image/png": "[encoded data removed]"
          },
          "metadata": {
            "needs_background": "light"
          }
        }
      ],
      "source": [
        "data_group_by_id= data_df.groupBy(\"metaObd.id\").count()\n",
        "data_group_by_id\n",
        "data_id= data_group_by_id.toPandas()\n",
        "data_id.plot(\"id\",\"count\",kind='barh')\n",
        "tickvalues = data_id.index\n",
        "plt.yticks(tickvalues, labels=[\"Audi e-tron GE\",\"Tesla Model Y\", \"Hyundai IONIQ 5\",\"Audi e-tron GE\", \"Mini Cooper SE\",\"Hyundai IONIQ 5\", \"Mini Cooper SE\",\"VW ID.3\",\"Kia e-Niro\",\"VW ID.3\",\"Tesla Model Y\",\"Kia e-Niro\" ])\n",
        "plt.show()"
      ],
      "id": "_Kkf6SoRypDI"
    },
    {
      "cell_type": "markdown",
      "source": [
        "Check if there are duplicate data"
      ],
      "metadata": {
        "id": "zHYyAfzKjG7R"
      },
      "id": "zHYyAfzKjG7R"
    },
    {
      "cell_type": "code",
      "execution_count": null,
      "metadata": {
        "colab": {
          "base_uri": "https://localhost:8080/"
        },
        "id": "c2dcdb1e",
        "outputId": "b661a310-18bc-4217-d2c1-d1dab07e377e"
      },
      "outputs": [
        {
          "output_type": "stream",
          "name": "stdout",
          "text": [
            "There were 720139 rows before removing duplicates, and 720139 rows after removing duplicates\n"
          ]
        }
      ],
      "source": [
        "data_df_nodup = data_df.dropDuplicates()\n",
        "print(\"There were {} rows before removing duplicates, and {} rows after removing duplicates\".format(data_df.count(), data_df_nodup.count()))"
      ],
      "id": "c2dcdb1e"
    },
    {
      "cell_type": "code",
      "source": [
        "null_values= n-(data_df.na.drop().count())\n",
        "null_values"
      ],
      "metadata": {
        "colab": {
          "base_uri": "https://localhost:8080/"
        },
        "id": "dT6shg0FHLsD",
        "outputId": "68ee780a-1c87-4c27-b781-66785f037c41"
      },
      "id": "dT6shg0FHLsD",
      "execution_count": null,
      "outputs": [
        {
          "output_type": "execute_result",
          "data": {
            "text/plain": [
              "692390"
            ]
          },
          "metadata": {},
          "execution_count": 12
        }
      ]
    },
    {
      "cell_type": "markdown",
      "source": [
        "the above statement shows that we have 692390 missing data, but we still have no idea about :\n",
        "\n",
        "\n",
        "*   Which column contains the most deletable data?\n",
        "*   Which vehicle model has the most missing data?\n",
        "\n",
        "\n",
        "\n",
        "Now let's visualize the amount of missing data in each column"
      ],
      "metadata": {
        "id": "GIS-IQjcfCE5"
      },
      "id": "GIS-IQjcfCE5"
    },
    {
      "cell_type": "code",
      "execution_count": null,
      "metadata": {
        "id": "46252261"
      },
      "outputs": [],
      "source": [
        "sample_df = data_df.select(data_df.columns).sample(False, 0.5, 42)\n",
        "pandas_df = sample_df.toPandas()\n",
        "\n",
        "# Convert all values to T/F\n",
        "tf_df = pandas_df.isnull()\n"
      ],
      "id": "46252261"
    },
    {
      "cell_type": "markdown",
      "source": [
        "So here we see that the \"BodyAndChassis\" column contains much more deletable data besides the \"Climate\" column "
      ],
      "metadata": {
        "id": "nsJr_o40gDkQ"
      },
      "id": "nsJr_o40gDkQ"
    },
    {
      "cell_type": "code",
      "execution_count": null,
      "metadata": {
        "colab": {
          "base_uri": "https://localhost:8080/",
          "height": 335
        },
        "id": "04f7c07f",
        "outputId": "53d1ecdd-541a-42a9-ffef-528a50b11567"
      },
      "outputs": [
        {
          "output_type": "display_data",
          "data": {
            "text/plain": [
              "<Figure size 432x288 with 2 Axes>"
            ],
            "image/png": "[encoded data removed]"
          },
          "metadata": {
            "needs_background": "light"
          }
        }
      ],
      "source": [
        "sns.heatmap(data=tf_df,yticklabels=False)\n",
        "plt.xticks(rotation=60, fontsize=10)\n",
        "plt.yticks(rotation=0, fontsize=10)\n",
        "plt.show()\n"
      ],
      "id": "04f7c07f"
    },
    {
      "cell_type": "markdown",
      "source": [
        "We can see the previous result with more details. So here we will eliminate the columns with more than 60% missing data and show only the rest.\n",
        "\n",
        "This is good! Here we can see that the columns \"Body and chassis\" and \"Climate\" are not included in the list because they contain more than 60% missing data"
      ],
      "metadata": {
        "id": "2dRw8FYuhAcs"
      },
      "id": "2dRw8FYuhAcs"
    },
    {
      "cell_type": "code",
      "execution_count": null,
      "metadata": {
        "id": "3aafdb8f",
        "colab": {
          "base_uri": "https://localhost:8080/"
        },
        "outputId": "a97d3588-6751-4cf7-a1bd-db9ee156dc8e"
      },
      "outputs": [
        {
          "output_type": "execute_result",
          "data": {
            "text/plain": [
              "['basicCarInfo', 'driveState', 'eMotor', 'metaObd', 'timestamp']"
            ]
          },
          "metadata": {},
          "execution_count": 53
        }
      ],
      "source": [
        "def column_dropper(df, threshold):\n",
        "    # Takes a dataframe and threshold for missing values. Returns a dataframe.\n",
        "    total_records = df.count()\n",
        "    for col in df.columns:\n",
        "    # Calculate the percentage of missing values\n",
        "        missing = df.where(df[col].isNull()).count()\n",
        "        missing_percent = missing / total_records\n",
        "      \n",
        "    # Drop column if percent of missing is more than threshold\n",
        "        if missing_percent > threshold:\n",
        "            df = df.drop(col)\n",
        "    return df\n",
        "\n",
        "# Drop columns that are more than 60% missing\n",
        "df = column_dropper(data_df, .6)\n",
        "df.columns"
      ],
      "id": "3aafdb8f"
    },
    {
      "cell_type": "markdown",
      "source": [
        "Which vehicle model contains more erasable values?"
      ],
      "metadata": {
        "id": "OndKkAx-dKQF"
      },
      "id": "OndKkAx-dKQF"
    },
    {
      "cell_type": "code",
      "execution_count": null,
      "metadata": {
        "id": "43fdccca"
      },
      "outputs": [],
      "source": [
        "data_df_VW_ID_3_M1 = data_df.filter(data_df.metaObd.id == \"ac:67:b2:72:ab:24\").toPandas()\n",
        "data_df_VW_ID_3_M2 = data_df.filter(data_df.metaObd.id == \"ac:67:b2:6f:e1:50\").toPandas()\n",
        "\n",
        "data_df_tesla_Model_Y_M1 = data_df.filter(data_df.metaObd.id == \"ac:67:b2:6e:85:60\").toPandas()\n",
        "data_df_tesla_Model_Y_M2 = data_df.filter(data_df.metaObd.id == \"ac:67:b2:71:f1:68\").toPandas()\n",
        "\n",
        "data_df_Audi_e_tron_GE_M1 = data_df.filter(data_df.metaObd.id == \"ac:67:b2:6e:85:84\").toPandas()\n",
        "data_df_Audi_e_tron_GE_M2 = data_df.filter(data_df.metaObd.id == \"ac:67:b2:6e:85:44\").toPandas()\n",
        "\n",
        "data_df_Kia_e_Niro_M1 = data_df.filter(data_df.metaObd.id == \"ac:67:b2:72:da:cc\").toPandas()\n",
        "data_df_Kia_e_Niro_M2 = data_df.filter(data_df.metaObd.id == \"ac:67:b2:6f:e5:a8\").toPandas()\n",
        "\n",
        "data_df_Hyundai_IONIQ_5_M1 = data_df.filter(data_df.metaObd.id == \"ac:67:b2:6e:cf:d0\").toPandas()\n",
        "data_df_Hyundai_IONIQ_5_M2 = data_df.filter(data_df.metaObd.id == \"ac:67:b2:6e:f1:c0\").toPandas()\n",
        "\n",
        "data_df_Mini_Cooper_SE_M1 = data_df.filter(data_df.metaObd.id == \"ac:67:b2:6f:e0:ac\").toPandas()\n",
        "data_df_Mini_Cooper_SE_M2 = data_df.filter(data_df.metaObd.id == \"ac:67:b2:6e:d9:38\").toPandas()"
      ],
      "id": "43fdccca"
    },
    {
      "cell_type": "markdown",
      "source": [
        "After filtering the data by ID, we can see from the diagram that the vehicle model Hyundai_IONIQ_5_M1 contains so many voidable vehicles compared to other models "
      ],
      "metadata": {
        "id": "j2VtFaqXdfyd"
      },
      "id": "j2VtFaqXdfyd"
    },
    {
      "cell_type": "code",
      "source": [
        "Models=[data_df_VW_ID_3_M1,data_df_VW_ID_3_M2,data_df_tesla_Model_Y_M1,data_df_tesla_Model_Y_M2,data_df_Audi_e_tron_GE_M1,data_df_Audi_e_tron_GE_M2,data_df_Kia_e_Niro_M1,data_df_Kia_e_Niro_M2,data_df_Hyundai_IONIQ_5_M1,data_df_Hyundai_IONIQ_5_M2,data_df_Mini_Cooper_SE_M1,data_df_Mini_Cooper_SE_M2]\n",
        "nul =[]\n",
        "for model in Models :\n",
        "  x= model.isnull().sum().sum()\n",
        "  nul.append(x)\n",
        "df = pd.DataFrame(nul,index =['VW_ID_3_M1', 'VW_ID_3_M2', 'tesla_Model_Y_M1', 'tesla_Model_Y_M2', 'Audi_e_tron_GE_M1', 'Audi_e_tron_GE_M2', 'Kia_e_Niro_M1','Kia_e_Niro_M2','Hyundai_IONIQ_5_M1','Hyundai_IONIQ_5_M2','Mini_Cooper_SE_M1','Mini_Cooper_SE_M2'], columns =['Null_Values'])\n",
        "df.plot(kind='barh')\n"
      ],
      "metadata": {
        "colab": {
          "base_uri": "https://localhost:8080/",
          "height": 282
        },
        "id": "lh_bZCNpQfYI",
        "outputId": "a2a63033-5f83-40df-e081-0a184a17253b"
      },
      "id": "lh_bZCNpQfYI",
      "execution_count": null,
      "outputs": [
        {
          "output_type": "execute_result",
          "data": {
            "text/plain": [
              "<matplotlib.axes._subplots.AxesSubplot at 0x7f1a1c099f50>"
            ]
          },
          "metadata": {},
          "execution_count": 60
        },
        {
          "output_type": "display_data",
          "data": {
            "text/plain": [
              "<Figure size 432x288 with 1 Axes>"
            ],
            "image/png": "[encoded data removed]"
          },
          "metadata": {
            "needs_background": "light"
          }
        }
      ]
    },
    {
      "cell_type": "markdown",
      "source": [
        "Conversion from timestamp to date "
      ],
      "metadata": {
        "id": "4TFvEFkQG-hu"
      },
      "id": "4TFvEFkQG-hu"
    },
    {
      "cell_type": "code",
      "execution_count": null,
      "metadata": {
        "id": "_ETCAP15l1sU"
      },
      "outputs": [],
      "source": [
        "time_convert= data_df.withColumn(\"timestamp\", f.to_date(f.from_unixtime(f.col(\"timestamp\"))))"
      ],
      "id": "_ETCAP15l1sU"
    },
    {
      "cell_type": "code",
      "execution_count": null,
      "metadata": {
        "colab": {
          "base_uri": "https://localhost:8080/"
        },
        "id": "7r6kHtFTHiA0",
        "outputId": "a2e6cb3f-af9d-48eb-e066-1b68f96f2ce4"
      },
      "outputs": [
        {
          "name": "stdout",
          "output_type": "stream",
          "text": [
            "+------------+------------+-----------------+-----+----------+\n",
            "|eCUversionHW|eCUversionSW|               id|state| timestamp|\n",
            "+------------+------------+-----------------+-----+----------+\n",
            "|        null|        null|ac:67:b2:6e:85:44| null|2021-06-24|\n",
            "|        null|        null|ac:67:b2:6e:85:44| null|2021-06-24|\n",
            "|        null|        null|ac:67:b2:6e:85:44| null|2021-06-24|\n",
            "|        null|        null|ac:67:b2:6e:85:44| null|2021-06-24|\n",
            "|        null|        null|ac:67:b2:6e:85:44| null|2021-06-24|\n",
            "|        null|        null|ac:67:b2:6e:85:44| null|2021-06-24|\n",
            "|        null|        null|ac:67:b2:6e:85:44| null|2021-06-24|\n",
            "|        null|        null|ac:67:b2:6e:85:44| null|2021-06-24|\n",
            "|        null|        null|ac:67:b2:6e:85:44| null|2021-06-24|\n",
            "|        null|        null|ac:67:b2:6e:85:44| null|2021-06-24|\n",
            "|        null|        null|ac:67:b2:6e:85:44| null|2021-06-24|\n",
            "|        null|        null|ac:67:b2:6e:85:44| null|2021-06-24|\n",
            "|        null|        null|ac:67:b2:6e:85:44| null|2021-06-24|\n",
            "|        null|        null|ac:67:b2:6e:85:44| null|2021-06-24|\n",
            "|        null|        null|ac:67:b2:6e:85:44| null|2021-06-24|\n",
            "|        null|        null|ac:67:b2:6e:85:44| null|2021-06-24|\n",
            "|        null|        null|ac:67:b2:6e:85:44| null|2021-06-24|\n",
            "|        null|        null|ac:67:b2:6e:85:44| null|2021-06-24|\n",
            "|        null|        null|ac:67:b2:6e:85:44| null|2021-06-24|\n",
            "|        null|        null|ac:67:b2:6e:85:44| null|2021-06-24|\n",
            "+------------+------------+-----------------+-----+----------+\n",
            "only showing top 20 rows\n",
            "\n"
          ]
        }
      ],
      "source": [
        "time_convert.show()"
      ],
      "id": "7r6kHtFTHiA0"
    },
    {
      "cell_type": "markdown",
      "source": [
        "Now that we have figured out which model contains the most deletable data, let's trace its origin"
      ],
      "metadata": {
        "id": "RjU9W64xg4x3"
      },
      "id": "RjU9W64xg4x3"
    },
    {
      "cell_type": "code",
      "source": [
        "# Convert all values to T/F\n",
        "tf_df = data_df_Hyundai_IONIQ_5_M1.isnull()\n",
        "\n",
        "sns.heatmap(data=tf_df,yticklabels=False)\n",
        "plt.xticks(rotation=90, fontsize=10)\n",
        "plt.yticks(rotation=0, fontsize=10)\n",
        "plt.show()"
      ],
      "metadata": {
        "colab": {
          "base_uri": "https://localhost:8080/",
          "height": 341
        },
        "id": "biGDp7EuhOnk",
        "outputId": "6228aac4-70a1-45d5-ef6b-ef2cde8f9149"
      },
      "id": "biGDp7EuhOnk",
      "execution_count": null,
      "outputs": [
        {
          "output_type": "display_data",
          "data": {
            "text/plain": [
              "<Figure size 432x288 with 2 Axes>"
            ],
            "image/png": "[encoded data removed]"
          },
          "metadata": {
            "needs_background": "light"
          }
        }
      ]
    },
    {
      "cell_type": "markdown",
      "source": [
        "We can now confirm that the origin is from the \"Climate\" and \"BodyAndChassis\" columns. Especially the column \"Climate\", because it is completely invalid. I became curious about the Hyundai_IONIQ_5_M2"
      ],
      "metadata": {
        "id": "BVmomwRMigxe"
      },
      "id": "BVmomwRMigxe"
    },
    {
      "cell_type": "code",
      "source": [
        "# Convert all values to T/F\n",
        "tf_df = data_df_Hyundai_IONIQ_5_M2.isnull()\n",
        "\n",
        "sns.heatmap(data=tf_df,yticklabels=False)\n",
        "plt.xticks(rotation=90, fontsize=10)\n",
        "plt.yticks(rotation=0, fontsize=10)\n",
        "plt.show()"
      ],
      "metadata": {
        "colab": {
          "base_uri": "https://localhost:8080/",
          "height": 341
        },
        "id": "5qrXtEiow8B8",
        "outputId": "6ab55b48-fd77-4b17-f667-e8dc2b43a115"
      },
      "id": "5qrXtEiow8B8",
      "execution_count": null,
      "outputs": [
        {
          "output_type": "display_data",
          "data": {
            "text/plain": [
              "<Figure size 432x288 with 2 Axes>"
            ],
            "image/png": "[encoded data removed]"
          },
          "metadata": {
            "needs_background": "light"
          }
        }
      ]
    },
    {
      "cell_type": "markdown",
      "source": [
        "To better understand this problem and to find out if the climate is an important information or not and if we can compensate these wrong values? \n",
        "\n",
        "I have an idea! How about interpreting the effect of the outside temperature on the temperature of the battery. Let's show this relationship between these two attributes for a different model, tesla_Model_Y_M2, since it contains less erasable data.\n"
      ],
      "metadata": {
        "id": "3U4_jCK3wv3F"
      },
      "id": "3U4_jCK3wv3F"
    },
    {
      "cell_type": "code",
      "source": [
        "data_df_tesla_Model_Y_M2 = data_df.filter(data_df.metaObd.id == \"ac:67:b2:71:f1:68\")\n",
        "selected_data=data_df_tesla_Model_Y_M2.select(col(\"climate.outsideAirTemp\"),col(\"eMotor.hvBatteryTemp\")).sample(False, 0.5, 42)\n",
        "selected_data_pandas=selected_data.toPandas()\n"
      ],
      "metadata": {
        "id": "5WJQVyHVoMhG"
      },
      "id": "5WJQVyHVoMhG",
      "execution_count": null,
      "outputs": []
    },
    {
      "cell_type": "code",
      "source": [
        "tf_df = selected_data_pandas.isnull()\n",
        "\n",
        "sns.heatmap(data=tf_df,yticklabels=False)\n",
        "plt.xticks(rotation=90, fontsize=10)\n",
        "plt.yticks(rotation=0, fontsize=10)\n",
        "plt.show()"
      ],
      "metadata": {
        "colab": {
          "base_uri": "https://localhost:8080/",
          "height": 336
        },
        "id": "Jx9WFkErsk3G",
        "outputId": "e9b2633f-9f17-41c6-8240-13079417fb9b"
      },
      "id": "Jx9WFkErsk3G",
      "execution_count": null,
      "outputs": [
        {
          "output_type": "display_data",
          "data": {
            "text/plain": [
              "<Figure size 432x288 with 2 Axes>"
            ],
            "image/png": "[encoded data removed]"
          },
          "metadata": {
            "needs_background": "light"
          }
        }
      ]
    },
    {
      "cell_type": "markdown",
      "source": [
        "This is a good sign, because we can see that these attributes do not contain so much missing data, so we can see the relationship between them"
      ],
      "metadata": {
        "id": "TaYavSK7y3Cl"
      },
      "id": "TaYavSK7y3Cl"
    },
    {
      "cell_type": "code",
      "source": [
        "index=selected_data_pandas.index\n",
        "\n",
        "x=np.array(selected_data_pandas[\"outsideAirTemp\"])\n",
        "y=np.array(selected_data_pandas[\"hvBatteryTemp\"])\n",
        "ouTemp=[]\n",
        "for i in x :\n",
        "  if (isinstance(i,list)):\n",
        "    ouTemp= ouTemp+i\n",
        "  else : \n",
        "    np.append(ouTemp,i)\n",
        "\n",
        "OT=[]\n",
        "for f in ouTemp :\n",
        "  OT=OT+f\n",
        "\n",
        "\n",
        "BattTemp=[]\n",
        "for i in y :\n",
        "  if (isinstance(i,list)):\n",
        "    BattTemp= BattTemp+i\n",
        "  else : \n",
        "    np.append(BattTemp,i)\n",
        "\n",
        "BT=[]\n",
        "for f in BattTemp :\n",
        "  BT=BT+f\n"
      ],
      "metadata": {
        "id": "GndN6f3b7Nvb"
      },
      "id": "GndN6f3b7Nvb",
      "execution_count": null,
      "outputs": []
    },
    {
      "cell_type": "code",
      "source": [
        "BT =BT [13380:]\n",
        "OT = OT[13400:]"
      ],
      "metadata": {
        "colab": {
          "base_uri": "https://localhost:8080/"
        },
        "id": "D9wgY_4ZTqY8",
        "outputId": "336910f1-e3aa-418e-afba-447bde259768"
      },
      "id": "D9wgY_4ZTqY8",
      "execution_count": null,
      "outputs": [
        {
          "output_type": "stream",
          "name": "stdout",
          "text": [
            "20 20\n"
          ]
        }
      ]
    },
    {
      "cell_type": "markdown",
      "source": [
        "Here we can see that the outside temperature and the battery temperature have the same deviation. This is a sign that confirms us that the outside temperature has an influence on the battery temperature."
      ],
      "metadata": {
        "id": "6DWn_VLfZ9Pw"
      },
      "id": "6DWn_VLfZ9Pw"
    },
    {
      "cell_type": "code",
      "source": [
        "df2 = pd.DataFrame({'outsideAirTemp':OT,\n",
        "                    'hvBatteryTemp':BT})\n",
        "df2.plot.bar();"
      ],
      "metadata": {
        "colab": {
          "base_uri": "https://localhost:8080/",
          "height": 279
        },
        "id": "1oyI9O0by2f8",
        "outputId": "9a50b4e6-5519-4d71-ac1d-b96a9fb1af30"
      },
      "id": "1oyI9O0by2f8",
      "execution_count": null,
      "outputs": [
        {
          "output_type": "display_data",
          "data": {
            "text/plain": [
              "<Figure size 432x288 with 1 Axes>"
            ],
            "image/png": "[encoded data removed]"
          },
          "metadata": {
            "needs_background": "light"
          }
        }
      ]
    },
    {
      "cell_type": "markdown",
      "source": [
        "We will analyze each column separately, starting with Motor Data\n"
      ],
      "metadata": {
        "id": "Bg1u8YlAmP2Z"
      },
      "id": "Bg1u8YlAmP2Z"
    },
    {
      "cell_type": "markdown",
      "source": [
        "Count the percentage of missing values"
      ],
      "metadata": {
        "id": "5hf4iTf3FnB3"
      },
      "id": "5hf4iTf3FnB3"
    },
    {
      "cell_type": "code",
      "execution_count": null,
      "metadata": {
        "colab": {
          "base_uri": "https://localhost:8080/",
          "height": 574
        },
        "id": "5cfe9aab",
        "outputId": "a7e21457-a36d-4f8b-a542-735b81d25f89"
      },
      "outputs": [
        {
          "output_type": "execute_result",
          "data": {
            "text/plain": [
              "         dcDcConverterTemp     eMotorActualCurrent                eMotorTemp  \\\n",
              "0       [[32, 1624541233]]   [[0.7, 1624541236.0]]  [[22.125, 1624541235.0]]   \n",
              "1       [[32, 1624541256]]   [[0.9, 1624541258.0]]  [[22.125, 1624541258.0]]   \n",
              "2       [[32, 1624541278]]   [[0.8, 1624541280.0]]  [[22.125, 1624541280.0]]   \n",
              "3       [[31, 1624541300]]  [[85.2, 1624541302.0]]  [[22.375, 1624541302.0]]   \n",
              "4       [[30, 1624541322]]  [[73.8, 1624541324.0]]   [[22.75, 1624541324.0]]   \n",
              "...                    ...                     ...                       ...   \n",
              "720134                None                    None                      None   \n",
              "720135                None                    None                      None   \n",
              "720136                None                    None                      None   \n",
              "720137                None                    None                      None   \n",
              "720138                None                    None                      None   \n",
              "\n",
              "       hvAvailableChargePower hvAvailableDischargePower  \\\n",
              "0                        None                      None   \n",
              "1                        None                      None   \n",
              "2                        None                      None   \n",
              "3                        None                      None   \n",
              "4                        None                      None   \n",
              "...                       ...                       ...   \n",
              "720134                   None                      None   \n",
              "720135                   None                      None   \n",
              "720136                   None                      None   \n",
              "720137                   None                      None   \n",
              "720138                   None                      None   \n",
              "\n",
              "              hvBatteryCurrent           hvBatteryTemp hvBatteryTempAvg  \\\n",
              "0       [[-1.8, 1624541231.0]]  [[19.0, 1624541232.0]]             None   \n",
              "1       [[-1.9, 1624541254.0]]  [[19.0, 1624541254.0]]             None   \n",
              "2       [[-2.1, 1624541276.0]]  [[19.0, 1624541276.0]]             None   \n",
              "3       [[-2.7, 1624541298.0]]  [[19.0, 1624541298.0]]             None   \n",
              "4       [[-4.5, 1624541320.0]]  [[19.0, 1624541321.0]]             None   \n",
              "...                        ...                     ...              ...   \n",
              "720134                    None                    None             None   \n",
              "720135                    None                    None             None   \n",
              "720136                    None                    None             None   \n",
              "720137                    None                    None             None   \n",
              "720138                    None                    None             None   \n",
              "\n",
              "       hvBatteryTempMax hvBatteryTempMin  ... hvChargePhasen  \\\n",
              "0                  None             None  ...           None   \n",
              "1                  None             None  ...           None   \n",
              "2                  None             None  ...           None   \n",
              "3                  None             None  ...           None   \n",
              "4                  None             None  ...           None   \n",
              "...                 ...              ...  ...            ...   \n",
              "720134             None             None  ...           None   \n",
              "720135             None             None  ...           None   \n",
              "720136             None             None  ...           None   \n",
              "720137             None             None  ...           None   \n",
              "720138             None             None  ...           None   \n",
              "\n",
              "            hvChargePower hvChargeTimeToFullManufacturer  \\\n",
              "0       [[0, 1624541234]]                           None   \n",
              "1       [[0, 1624541256]]                           None   \n",
              "2       [[0, 1624541278]]                           None   \n",
              "3       [[0, 1624541300]]                           None   \n",
              "4       [[0, 1624541323]]                           None   \n",
              "...                   ...                            ...   \n",
              "720134               None                           None   \n",
              "720135               None                           None   \n",
              "720136               None                           None   \n",
              "720137               None                           None   \n",
              "720138               None                           None   \n",
              "\n",
              "                 hvCoolingTemp hvPowerElectronicTemp           hvSocActualBms  \\\n",
              "0       [[19.0, 1624541232.0]]    [[23, 1624541233]]  [[94.12, 1624541231.0]]   \n",
              "1       [[19.0, 1624541254.0]]    [[22, 1624541256]]  [[94.12, 1624541254.0]]   \n",
              "2       [[19.0, 1624541276.0]]    [[23, 1624541278]]  [[94.12, 1624541276.0]]   \n",
              "3       [[19.0, 1624541299.0]]    [[23, 1624541300]]  [[94.12, 1624541298.0]]   \n",
              "4       [[19.0, 1624541321.0]]    [[23, 1624541322]]  [[94.12, 1624541320.0]]   \n",
              "...                        ...                   ...                      ...   \n",
              "720134                    None                  None                     None   \n",
              "720135                    None                  None                     None   \n",
              "720136                    None                  None                     None   \n",
              "720137                    None                  None                     None   \n",
              "720138                    None                  None                     None   \n",
              "\n",
              "            hvSocActualDisplay hvStateOfHealth rangeManufacturer  \\\n",
              "0       [[98.0, 1624541234.0]]            None              None   \n",
              "1       [[98.0, 1624541256.0]]            None              None   \n",
              "2       [[98.0, 1624541278.0]]            None              None   \n",
              "3       [[98.0, 1624541300.0]]            None              None   \n",
              "4       [[98.0, 1624541323.0]]            None              None   \n",
              "...                        ...             ...               ...   \n",
              "720134                    None            None              None   \n",
              "720135                    None            None              None   \n",
              "720136                    None            None              None   \n",
              "720137                    None            None              None   \n",
              "720138                    None            None              None   \n",
              "\n",
              "                  rpmEmotor  \n",
              "0         [[0, 1624541231]]  \n",
              "1         [[0, 1624541253]]  \n",
              "2         [[0, 1624541275]]  \n",
              "3       [[-78, 1624541297]]  \n",
              "4        [[16, 1624541319]]  \n",
              "...                     ...  \n",
              "720134                 None  \n",
              "720135                 None  \n",
              "720136                 None  \n",
              "720137                 None  \n",
              "720138                 None  \n",
              "\n",
              "[720139 rows x 28 columns]"
            ],
            "text/html": [
              "\n",
              "  <div id=\"df-70f37561-ba8c-4409-ab7e-a987dd7ce9f3\">\n",
              "    <div class=\"colab-df-container\">\n",
              "      <div>\n",
              "<style scoped>\n",
              "    .dataframe tbody tr th:only-of-type {\n",
              "        vertical-align: middle;\n",
              "    }\n",
              "\n",
              "    .dataframe tbody tr th {\n",
              "        vertical-align: top;\n",
              "    }\n",
              "\n",
              "    .dataframe thead th {\n",
              "        text-align: right;\n",
              "    }\n",
              "</style>\n",
              "<table border=\"1\" class=\"dataframe\">\n",
              "  <thead>\n",
              "    <tr style=\"text-align: right;\">\n",
              "      <th></th>\n",
              "      <th>dcDcConverterTemp</th>\n",
              "      <th>eMotorActualCurrent</th>\n",
              "      <th>eMotorTemp</th>\n",
              "      <th>hvAvailableChargePower</th>\n",
              "      <th>hvAvailableDischargePower</th>\n",
              "      <th>hvBatteryCurrent</th>\n",
              "      <th>hvBatteryTemp</th>\n",
              "      <th>hvBatteryTempAvg</th>\n",
              "      <th>hvBatteryTempMax</th>\n",
              "      <th>hvBatteryTempMin</th>\n",
              "      <th>...</th>\n",
              "      <th>hvChargePhasen</th>\n",
              "      <th>hvChargePower</th>\n",
              "      <th>hvChargeTimeToFullManufacturer</th>\n",
              "      <th>hvCoolingTemp</th>\n",
              "      <th>hvPowerElectronicTemp</th>\n",
              "      <th>hvSocActualBms</th>\n",
              "      <th>hvSocActualDisplay</th>\n",
              "      <th>hvStateOfHealth</th>\n",
              "      <th>rangeManufacturer</th>\n",
              "      <th>rpmEmotor</th>\n",
              "    </tr>\n",
              "  </thead>\n",
              "  <tbody>\n",
              "    <tr>\n",
              "      <th>0</th>\n",
              "      <td>[[32, 1624541233]]</td>\n",
              "      <td>[[0.7, 1624541236.0]]</td>\n",
              "      <td>[[22.125, 1624541235.0]]</td>\n",
              "      <td>None</td>\n",
              "      <td>None</td>\n",
              "      <td>[[-1.8, 1624541231.0]]</td>\n",
              "      <td>[[19.0, 1624541232.0]]</td>\n",
              "      <td>None</td>\n",
              "      <td>None</td>\n",
              "      <td>None</td>\n",
              "      <td>...</td>\n",
              "      <td>None</td>\n",
              "      <td>[[0, 1624541234]]</td>\n",
              "      <td>None</td>\n",
              "      <td>[[19.0, 1624541232.0]]</td>\n",
              "      <td>[[23, 1624541233]]</td>\n",
              "      <td>[[94.12, 1624541231.0]]</td>\n",
              "      <td>[[98.0, 1624541234.0]]</td>\n",
              "      <td>None</td>\n",
              "      <td>None</td>\n",
              "      <td>[[0, 1624541231]]</td>\n",
              "    </tr>\n",
              "    <tr>\n",
              "      <th>1</th>\n",
              "      <td>[[32, 1624541256]]</td>\n",
              "      <td>[[0.9, 1624541258.0]]</td>\n",
              "      <td>[[22.125, 1624541258.0]]</td>\n",
              "      <td>None</td>\n",
              "      <td>None</td>\n",
              "      <td>[[-1.9, 1624541254.0]]</td>\n",
              "      <td>[[19.0, 1624541254.0]]</td>\n",
              "      <td>None</td>\n",
              "      <td>None</td>\n",
              "      <td>None</td>\n",
              "      <td>...</td>\n",
              "      <td>None</td>\n",
              "      <td>[[0, 1624541256]]</td>\n",
              "      <td>None</td>\n",
              "      <td>[[19.0, 1624541254.0]]</td>\n",
              "      <td>[[22, 1624541256]]</td>\n",
              "      <td>[[94.12, 1624541254.0]]</td>\n",
              "      <td>[[98.0, 1624541256.0]]</td>\n",
              "      <td>None</td>\n",
              "      <td>None</td>\n",
              "      <td>[[0, 1624541253]]</td>\n",
              "    </tr>\n",
              "    <tr>\n",
              "      <th>2</th>\n",
              "      <td>[[32, 1624541278]]</td>\n",
              "      <td>[[0.8, 1624541280.0]]</td>\n",
              "      <td>[[22.125, 1624541280.0]]</td>\n",
              "      <td>None</td>\n",
              "      <td>None</td>\n",
              "      <td>[[-2.1, 1624541276.0]]</td>\n",
              "      <td>[[19.0, 1624541276.0]]</td>\n",
              "      <td>None</td>\n",
              "      <td>None</td>\n",
              "      <td>None</td>\n",
              "      <td>...</td>\n",
              "      <td>None</td>\n",
              "      <td>[[0, 1624541278]]</td>\n",
              "      <td>None</td>\n",
              "      <td>[[19.0, 1624541276.0]]</td>\n",
              "      <td>[[23, 1624541278]]</td>\n",
              "      <td>[[94.12, 1624541276.0]]</td>\n",
              "      <td>[[98.0, 1624541278.0]]</td>\n",
              "      <td>None</td>\n",
              "      <td>None</td>\n",
              "      <td>[[0, 1624541275]]</td>\n",
              "    </tr>\n",
              "    <tr>\n",
              "      <th>3</th>\n",
              "      <td>[[31, 1624541300]]</td>\n",
              "      <td>[[85.2, 1624541302.0]]</td>\n",
              "      <td>[[22.375, 1624541302.0]]</td>\n",
              "      <td>None</td>\n",
              "      <td>None</td>\n",
              "      <td>[[-2.7, 1624541298.0]]</td>\n",
              "      <td>[[19.0, 1624541298.0]]</td>\n",
              "      <td>None</td>\n",
              "      <td>None</td>\n",
              "      <td>None</td>\n",
              "      <td>...</td>\n",
              "      <td>None</td>\n",
              "      <td>[[0, 1624541300]]</td>\n",
              "      <td>None</td>\n",
              "      <td>[[19.0, 1624541299.0]]</td>\n",
              "      <td>[[23, 1624541300]]</td>\n",
              "      <td>[[94.12, 1624541298.0]]</td>\n",
              "      <td>[[98.0, 1624541300.0]]</td>\n",
              "      <td>None</td>\n",
              "      <td>None</td>\n",
              "      <td>[[-78, 1624541297]]</td>\n",
              "    </tr>\n",
              "    <tr>\n",
              "      <th>4</th>\n",
              "      <td>[[30, 1624541322]]</td>\n",
              "      <td>[[73.8, 1624541324.0]]</td>\n",
              "      <td>[[22.75, 1624541324.0]]</td>\n",
              "      <td>None</td>\n",
              "      <td>None</td>\n",
              "      <td>[[-4.5, 1624541320.0]]</td>\n",
              "      <td>[[19.0, 1624541321.0]]</td>\n",
              "      <td>None</td>\n",
              "      <td>None</td>\n",
              "      <td>None</td>\n",
              "      <td>...</td>\n",
              "      <td>None</td>\n",
              "      <td>[[0, 1624541323]]</td>\n",
              "      <td>None</td>\n",
              "      <td>[[19.0, 1624541321.0]]</td>\n",
              "      <td>[[23, 1624541322]]</td>\n",
              "      <td>[[94.12, 1624541320.0]]</td>\n",
              "      <td>[[98.0, 1624541323.0]]</td>\n",
              "      <td>None</td>\n",
              "      <td>None</td>\n",
              "      <td>[[16, 1624541319]]</td>\n",
              "    </tr>\n",
              "    <tr>\n",
              "      <th>...</th>\n",
              "      <td>...</td>\n",
              "      <td>...</td>\n",
              "      <td>...</td>\n",
              "      <td>...</td>\n",
              "      <td>...</td>\n",
              "      <td>...</td>\n",
              "      <td>...</td>\n",
              "      <td>...</td>\n",
              "      <td>...</td>\n",
              "      <td>...</td>\n",
              "      <td>...</td>\n",
              "      <td>...</td>\n",
              "      <td>...</td>\n",
              "      <td>...</td>\n",
              "      <td>...</td>\n",
              "      <td>...</td>\n",
              "      <td>...</td>\n",
              "      <td>...</td>\n",
              "      <td>...</td>\n",
              "      <td>...</td>\n",
              "      <td>...</td>\n",
              "    </tr>\n",
              "    <tr>\n",
              "      <th>720134</th>\n",
              "      <td>None</td>\n",
              "      <td>None</td>\n",
              "      <td>None</td>\n",
              "      <td>None</td>\n",
              "      <td>None</td>\n",
              "      <td>None</td>\n",
              "      <td>None</td>\n",
              "      <td>None</td>\n",
              "      <td>None</td>\n",
              "      <td>None</td>\n",
              "      <td>...</td>\n",
              "      <td>None</td>\n",
              "      <td>None</td>\n",
              "      <td>None</td>\n",
              "      <td>None</td>\n",
              "      <td>None</td>\n",
              "      <td>None</td>\n",
              "      <td>None</td>\n",
              "      <td>None</td>\n",
              "      <td>None</td>\n",
              "      <td>None</td>\n",
              "    </tr>\n",
              "    <tr>\n",
              "      <th>720135</th>\n",
              "      <td>None</td>\n",
              "      <td>None</td>\n",
              "      <td>None</td>\n",
              "      <td>None</td>\n",
              "      <td>None</td>\n",
              "      <td>None</td>\n",
              "      <td>None</td>\n",
              "      <td>None</td>\n",
              "      <td>None</td>\n",
              "      <td>None</td>\n",
              "      <td>...</td>\n",
              "      <td>None</td>\n",
              "      <td>None</td>\n",
              "      <td>None</td>\n",
              "      <td>None</td>\n",
              "      <td>None</td>\n",
              "      <td>None</td>\n",
              "      <td>None</td>\n",
              "      <td>None</td>\n",
              "      <td>None</td>\n",
              "      <td>None</td>\n",
              "    </tr>\n",
              "    <tr>\n",
              "      <th>720136</th>\n",
              "      <td>None</td>\n",
              "      <td>None</td>\n",
              "      <td>None</td>\n",
              "      <td>None</td>\n",
              "      <td>None</td>\n",
              "      <td>None</td>\n",
              "      <td>None</td>\n",
              "      <td>None</td>\n",
              "      <td>None</td>\n",
              "      <td>None</td>\n",
              "      <td>...</td>\n",
              "      <td>None</td>\n",
              "      <td>None</td>\n",
              "      <td>None</td>\n",
              "      <td>None</td>\n",
              "      <td>None</td>\n",
              "      <td>None</td>\n",
              "      <td>None</td>\n",
              "      <td>None</td>\n",
              "      <td>None</td>\n",
              "      <td>None</td>\n",
              "    </tr>\n",
              "    <tr>\n",
              "      <th>720137</th>\n",
              "      <td>None</td>\n",
              "      <td>None</td>\n",
              "      <td>None</td>\n",
              "      <td>None</td>\n",
              "      <td>None</td>\n",
              "      <td>None</td>\n",
              "      <td>None</td>\n",
              "      <td>None</td>\n",
              "      <td>None</td>\n",
              "      <td>None</td>\n",
              "      <td>...</td>\n",
              "      <td>None</td>\n",
              "      <td>None</td>\n",
              "      <td>None</td>\n",
              "      <td>None</td>\n",
              "      <td>None</td>\n",
              "      <td>None</td>\n",
              "      <td>None</td>\n",
              "      <td>None</td>\n",
              "      <td>None</td>\n",
              "      <td>None</td>\n",
              "    </tr>\n",
              "    <tr>\n",
              "      <th>720138</th>\n",
              "      <td>None</td>\n",
              "      <td>None</td>\n",
              "      <td>None</td>\n",
              "      <td>None</td>\n",
              "      <td>None</td>\n",
              "      <td>None</td>\n",
              "      <td>None</td>\n",
              "      <td>None</td>\n",
              "      <td>None</td>\n",
              "      <td>None</td>\n",
              "      <td>...</td>\n",
              "      <td>None</td>\n",
              "      <td>None</td>\n",
              "      <td>None</td>\n",
              "      <td>None</td>\n",
              "      <td>None</td>\n",
              "      <td>None</td>\n",
              "      <td>None</td>\n",
              "      <td>None</td>\n",
              "      <td>None</td>\n",
              "      <td>None</td>\n",
              "    </tr>\n",
              "  </tbody>\n",
              "</table>\n",
              "<p>720139 rows × 28 columns</p>\n",
              "</div>\n",
              "      <button class=\"colab-df-convert\" onclick=\"convertToInteractive('df-70f37561-ba8c-4409-ab7e-a987dd7ce9f3')\"\n",
              "              title=\"Convert this dataframe to an interactive table.\"\n",
              "              style=\"display:none;\">\n",
              "        \n",
              "  <svg xmlns=\"http://www.w3.org/2000/svg\" height=\"24px\"viewBox=\"0 0 24 24\"\n",
              "       width=\"24px\">\n",
              "    <path d=\"M0 0h24v24H0V0z\" fill=\"none\"/>\n",
              "    <path d=\"M18.56 5.44l.94 2.06.94-2.06 2.06-.94-2.06-.94-.94-2.06-.94 2.06-2.06.94zm-11 1L8.5 8.5l.94-2.06 2.06-.94-2.06-.94L8.5 2.5l-.94 2.06-2.06.94zm10 10l.94 2.06.94-2.06 2.06-.94-2.06-.94-.94-2.06-.94 2.06-2.06.94z\"/><path d=\"M17.41 7.96l-1.37-1.37c-.4-.4-.92-.59-1.43-.59-.52 0-1.04.2-1.43.59L10.3 9.45l-7.72 7.72c-.78.78-.78 2.05 0 2.83L4 21.41c.39.39.9.59 1.41.59.51 0 1.02-.2 1.41-.59l7.78-7.78 2.81-2.81c.8-.78.8-2.07 0-2.86zM5.41 20L4 18.59l7.72-7.72 1.47 1.35L5.41 20z\"/>\n",
              "  </svg>\n",
              "      </button>\n",
              "      \n",
              "  <style>\n",
              "    .colab-df-container {\n",
              "      display:flex;\n",
              "      flex-wrap:wrap;\n",
              "      gap: 12px;\n",
              "    }\n",
              "\n",
              "    .colab-df-convert {\n",
              "      background-color: #E8F0FE;\n",
              "      border: none;\n",
              "      border-radius: 50%;\n",
              "      cursor: pointer;\n",
              "      display: none;\n",
              "      fill: #1967D2;\n",
              "      height: 32px;\n",
              "      padding: 0 0 0 0;\n",
              "      width: 32px;\n",
              "    }\n",
              "\n",
              "    .colab-df-convert:hover {\n",
              "      background-color: #E2EBFA;\n",
              "      box-shadow: 0px 1px 2px rgba(60, 64, 67, 0.3), 0px 1px 3px 1px rgba(60, 64, 67, 0.15);\n",
              "      fill: #174EA6;\n",
              "    }\n",
              "\n",
              "    [theme=dark] .colab-df-convert {\n",
              "      background-color: #3B4455;\n",
              "      fill: #D2E3FC;\n",
              "    }\n",
              "\n",
              "    [theme=dark] .colab-df-convert:hover {\n",
              "      background-color: #434B5C;\n",
              "      box-shadow: 0px 1px 3px 1px rgba(0, 0, 0, 0.15);\n",
              "      filter: drop-shadow(0px 1px 2px rgba(0, 0, 0, 0.3));\n",
              "      fill: #FFFFFF;\n",
              "    }\n",
              "  </style>\n",
              "\n",
              "      <script>\n",
              "        const buttonEl =\n",
              "          document.querySelector('#df-70f37561-ba8c-4409-ab7e-a987dd7ce9f3 button.colab-df-convert');\n",
              "        buttonEl.style.display =\n",
              "          google.colab.kernel.accessAllowed ? 'block' : 'none';\n",
              "\n",
              "        async function convertToInteractive(key) {\n",
              "          const element = document.querySelector('#df-70f37561-ba8c-4409-ab7e-a987dd7ce9f3');\n",
              "          const dataTable =\n",
              "            await google.colab.kernel.invokeFunction('convertToInteractive',\n",
              "                                                     [key], {});\n",
              "          if (!dataTable) return;\n",
              "\n",
              "          const docLinkHtml = 'Like what you see? Visit the ' +\n",
              "            '<a target=\"_blank\" href=https://colab.research.google.com/notebooks/data_table.ipynb>data table notebook</a>'\n",
              "            + ' to learn more about interactive tables.';\n",
              "          element.innerHTML = '';\n",
              "          dataTable['output_type'] = 'display_data';\n",
              "          await google.colab.output.renderOutput(dataTable, element);\n",
              "          const docLink = document.createElement('div');\n",
              "          docLink.innerHTML = docLinkHtml;\n",
              "          element.appendChild(docLink);\n",
              "        }\n",
              "      </script>\n",
              "    </div>\n",
              "  </div>\n",
              "  "
            ]
          },
          "metadata": {},
          "execution_count": 8
        }
      ],
      "source": [
        "eMotor_df = data_df.select(col(\"eMotor.*\"))\n",
        "type(eMotor_df.columns)\n",
        "eMotor_df_pandas =eMotor_df.toPandas()\n",
        "# Checking basic statistics\n",
        "eMotor_df_pandas.describe()"
      ],
      "id": "5cfe9aab"
    },
    {
      "cell_type": "code",
      "source": [
        "# Count percentage of missing values\n",
        "missing_percentages = eMotor_df_pandas.isna().sum().sort_values(ascending=False) / len(df) * 100\n",
        "missing_percentages"
      ],
      "metadata": {
        "colab": {
          "base_uri": "https://localhost:8080/"
        },
        "id": "u9C4VJd2KrOw",
        "outputId": "188666b6-57e9-409a-c208-727cc9be1620"
      },
      "id": "u9C4VJd2KrOw",
      "execution_count": null,
      "outputs": [
        {
          "output_type": "execute_result",
          "data": {
            "text/plain": [
              "hvBatteryTempAvg                  3418.761869\n",
              "eMotorActualCurrent               3300.104444\n",
              "hvCellVoltageAvg                  3281.048234\n",
              "hvChargePhasen                    3273.414356\n",
              "hvChargeTimeToFullManufacturer    3273.157995\n",
              "hvCellSocMin                      3172.811432\n",
              "hvCellSocMax                      3172.778200\n",
              "eMotorTemp                        3154.500570\n",
              "hvChargePower                     3149.700912\n",
              "hvPowerElectronicTemp             3149.610710\n",
              "dcDcConverterTemp                 3149.610710\n",
              "hvCellVoltages                    3096.539119\n",
              "hvAvailableDischargePower         2981.717622\n",
              "hvAvailableChargePower            2981.717622\n",
              "rangeManufacturer                 2786.109001\n",
              "hvBatteryTempMin                  2745.437714\n",
              "hvBatteryTempMax                  2745.413976\n",
              "hvCellDeviationVoltage            2535.078807\n",
              "hvStateOfHealth                   2304.975313\n",
              "rpmEmotor                         1957.206608\n",
              "hvCellVoltageMax                  1764.009685\n",
              "hvCellVoltageMin                  1763.962210\n",
              "hvBatteryVoltage                  1649.653437\n",
              "hvBatteryCurrent                  1649.544246\n",
              "hvSocActualBms                    1644.943980\n",
              "hvCoolingTemp                     1642.171477\n",
              "hvBatteryTemp                     1638.810292\n",
              "hvSocActualDisplay                1549.786365\n",
              "dtype: float64"
            ]
          },
          "metadata": {},
          "execution_count": 236
        }
      ]
    },
    {
      "cell_type": "markdown",
      "source": [
        "Here we see that, for example, for the temperature of the battery (Temp max, Temp min, Temp Avg). As the average temperature contains a large amount of missing data, we can replace this data by calculating the average value from the maximum and minimum values"
      ],
      "metadata": {
        "id": "Bv9IvQK_lKxj"
      },
      "id": "Bv9IvQK_lKxj"
    },
    {
      "cell_type": "code",
      "source": [
        "missing_percentages[missing_percentages != 0].plot(kind='barh');"
      ],
      "metadata": {
        "colab": {
          "base_uri": "https://localhost:8080/",
          "height": 265
        },
        "id": "SOdn8JjlLprJ",
        "outputId": "f5803d15-d99c-47b5-feb1-fd63a812651c"
      },
      "id": "SOdn8JjlLprJ",
      "execution_count": null,
      "outputs": [
        {
          "output_type": "display_data",
          "data": {
            "text/plain": [
              "<Figure size 432x288 with 1 Axes>"
            ],
            "image/png": "[encoded data removed]"
          },
          "metadata": {
            "needs_background": "light"
          }
        }
      ]
    },
    {
      "cell_type": "markdown",
      "source": [
        "What about tracking energy consumption throughout the data set? "
      ],
      "metadata": {
        "id": "sPqzqX4b9Zv0"
      },
      "id": "sPqzqX4b9Zv0"
    },
    {
      "cell_type": "code",
      "execution_count": null,
      "metadata": {
        "colab": {
          "base_uri": "https://localhost:8080/",
          "height": 333
        },
        "id": "qJPnz7SsGe-3",
        "outputId": "31305e17-b142-4ffc-840b-e1471b3614cb"
      },
      "outputs": [
        {
          "output_type": "stream",
          "name": "stderr",
          "text": [
            "/usr/local/lib/python3.7/dist-packages/seaborn/distributions.py:2619: FutureWarning: `distplot` is a deprecated function and will be removed in a future version. Please adapt your code to use either `displot` (a figure-level function with similar flexibility) or `histplot` (an axes-level function for histograms).\n",
            "  warnings.warn(msg, FutureWarning)\n"
          ]
        },
        {
          "output_type": "display_data",
          "data": {
            "text/plain": [
              "<Figure size 432x288 with 1 Axes>"
            ],
            "image/png": "[encoded data removed]"
          },
          "metadata": {
            "needs_background": "light"
          }
        }
      ],
      "source": [
        "data_new=data_df.na.drop()\n",
        "motor_df = data_new.select(col(\"eMotor.hvBatteryCurrent\"),col(\"metaObd.id\"))\n",
        "pandas_motor_df = motor_df.toPandas()\n",
        "hvBatteryCurrent= pandas_motor_df[\"hvBatteryCurrent\"]\n",
        "sum = 0\n",
        "x=[]\n",
        "for liste in hvBatteryCurrent:\n",
        "  if liste != None :\n",
        "    for j in liste:\n",
        "      sum=sum+j[0]\n",
        "      consumption = sum / 1000 / 3600  # kWh\n",
        "      x.append(consumption)\n",
        "  else :\n",
        "    x.append(0)\n",
        "\n",
        "df = pd.DataFrame(x)\n",
        "df.rename(columns={0:'consumption'}, inplace = True)\n",
        "id=pandas_motor_df[\"id\"]\n",
        "result = pd.concat([id, df], axis=1)\n",
        "\n",
        "data=result.consumption.drop(0)\n",
        "sns.distplot(data,bins=12, kde=False, norm_hist=True)\n",
        "plt.show()\n"
      ],
      "id": "qJPnz7SsGe-3"
    },
    {
      "cell_type": "markdown",
      "source": [
        "Most consumable energy car "
      ],
      "metadata": {
        "id": "bOLLuCDCddwj"
      },
      "id": "bOLLuCDCddwj"
    },
    {
      "cell_type": "code",
      "source": [
        "most=result.groupby(\"id\")[\"consumption\"].sum().sort_values(ascending=False)\n",
        "most"
      ],
      "metadata": {
        "colab": {
          "base_uri": "https://localhost:8080/"
        },
        "id": "_YdnBQsYYPGk",
        "outputId": "2ea7ca4d-b9f4-461c-909f-1103ad69e175"
      },
      "id": "_YdnBQsYYPGk",
      "execution_count": null,
      "outputs": [
        {
          "output_type": "execute_result",
          "data": {
            "text/plain": [
              "id\n",
              "ac:67:b2:72:ab:24   -537.898786\n",
              "ac:67:b2:6f:e1:50   -627.411614\n",
              "Name: consumption, dtype: float64"
            ]
          },
          "metadata": {},
          "execution_count": 23
        }
      ]
    },
    {
      "cell_type": "markdown",
      "source": [
        "Let's now compare the energy consumption between the Tesla model and the Volkswagen model. Let's first add a column that represents the energy consumption."
      ],
      "metadata": {
        "id": "kpvbAiu-QizN"
      },
      "id": "kpvbAiu-QizN"
    },
    {
      "cell_type": "code",
      "source": [
        "motor_df = data_df.select(col(\"eMotor.hvBatteryCurrent\"),col(\"metaObd.id\"))\n",
        "motor_non_null=motor_df.na.drop()\n",
        "\n",
        "#data_df_tesla_Model_Y_M2\n",
        "data_df_VW_ID_3 = motor_non_null.filter(data_df.metaObd.id == \"ac:67:b2:72:ab:24\").toPandas()\n",
        "\n",
        "#data_df_VW_ID_3_M1\n",
        "data_df_tesla_Model_Y = motor_non_null.filter(data_df.metaObd.id == \"ac:67:b2:71:f1:68\").toPandas()\n",
        "data_df_tesla_Model_Y.info()\n",
        "\n"
      ],
      "metadata": {
        "id": "Ej9r2PDOUWjc"
      },
      "id": "Ej9r2PDOUWjc",
      "execution_count": null,
      "outputs": []
    },
    {
      "cell_type": "code",
      "source": [
        "data_df_VW_ID_3['energie_consumption'] = data_df_VW_ID_3.apply(lambda row: np.sum(row['hvBatteryCurrent'])/1000/3600, axis=1)\n",
        "data_df_tesla_Model_Y['energie_consumption'] = data_df_tesla_Model_Y.apply(lambda row: np.sum(row['hvBatteryCurrent'])/1000/3600, axis=1)\n",
        "\n"
      ],
      "metadata": {
        "id": "ZSh2TdVPzo-v"
      },
      "id": "ZSh2TdVPzo-v",
      "execution_count": null,
      "outputs": []
    },
    {
      "cell_type": "code",
      "source": [
        "data_df_VW_ID_3.head()"
      ],
      "metadata": {
        "colab": {
          "base_uri": "https://localhost:8080/",
          "height": 206
        },
        "id": "1sAzCVEu10ha",
        "outputId": "4a828a1a-3f44-4789-8958-88507ee01ab3"
      },
      "id": "1sAzCVEu10ha",
      "execution_count": null,
      "outputs": [
        {
          "output_type": "execute_result",
          "data": {
            "text/plain": [
              "          hvBatteryCurrent                 id  energie_consumption\n",
              "0  [[-9.71, 1628241568.0]]  ac:67:b2:72:ab:24           452.289322\n",
              "1   [[-4.7, 1628241590.0]]  ac:67:b2:72:ab:24           452.289329\n",
              "2  [[-0.37, 1628241613.0]]  ac:67:b2:72:ab:24           452.289337\n",
              "3  [[-0.31, 1628241635.0]]  ac:67:b2:72:ab:24           452.289343\n",
              "4  [[-0.44, 1628241658.0]]  ac:67:b2:72:ab:24           452.289349"
            ],
            "text/html": [
              "\n",
              "  <div id=\"df-913736c3-a663-4c0b-8b9a-982d90c82af3\">\n",
              "    <div class=\"colab-df-container\">\n",
              "      <div>\n",
              "<style scoped>\n",
              "    .dataframe tbody tr th:only-of-type {\n",
              "        vertical-align: middle;\n",
              "    }\n",
              "\n",
              "    .dataframe tbody tr th {\n",
              "        vertical-align: top;\n",
              "    }\n",
              "\n",
              "    .dataframe thead th {\n",
              "        text-align: right;\n",
              "    }\n",
              "</style>\n",
              "<table border=\"1\" class=\"dataframe\">\n",
              "  <thead>\n",
              "    <tr style=\"text-align: right;\">\n",
              "      <th></th>\n",
              "      <th>hvBatteryCurrent</th>\n",
              "      <th>id</th>\n",
              "      <th>energie_consumption</th>\n",
              "    </tr>\n",
              "  </thead>\n",
              "  <tbody>\n",
              "    <tr>\n",
              "      <th>0</th>\n",
              "      <td>[[-9.71, 1628241568.0]]</td>\n",
              "      <td>ac:67:b2:72:ab:24</td>\n",
              "      <td>452.289322</td>\n",
              "    </tr>\n",
              "    <tr>\n",
              "      <th>1</th>\n",
              "      <td>[[-4.7, 1628241590.0]]</td>\n",
              "      <td>ac:67:b2:72:ab:24</td>\n",
              "      <td>452.289329</td>\n",
              "    </tr>\n",
              "    <tr>\n",
              "      <th>2</th>\n",
              "      <td>[[-0.37, 1628241613.0]]</td>\n",
              "      <td>ac:67:b2:72:ab:24</td>\n",
              "      <td>452.289337</td>\n",
              "    </tr>\n",
              "    <tr>\n",
              "      <th>3</th>\n",
              "      <td>[[-0.31, 1628241635.0]]</td>\n",
              "      <td>ac:67:b2:72:ab:24</td>\n",
              "      <td>452.289343</td>\n",
              "    </tr>\n",
              "    <tr>\n",
              "      <th>4</th>\n",
              "      <td>[[-0.44, 1628241658.0]]</td>\n",
              "      <td>ac:67:b2:72:ab:24</td>\n",
              "      <td>452.289349</td>\n",
              "    </tr>\n",
              "  </tbody>\n",
              "</table>\n",
              "</div>\n",
              "      <button class=\"colab-df-convert\" onclick=\"convertToInteractive('df-913736c3-a663-4c0b-8b9a-982d90c82af3')\"\n",
              "              title=\"Convert this dataframe to an interactive table.\"\n",
              "              style=\"display:none;\">\n",
              "        \n",
              "  <svg xmlns=\"http://www.w3.org/2000/svg\" height=\"24px\"viewBox=\"0 0 24 24\"\n",
              "       width=\"24px\">\n",
              "    <path d=\"M0 0h24v24H0V0z\" fill=\"none\"/>\n",
              "    <path d=\"M18.56 5.44l.94 2.06.94-2.06 2.06-.94-2.06-.94-.94-2.06-.94 2.06-2.06.94zm-11 1L8.5 8.5l.94-2.06 2.06-.94-2.06-.94L8.5 2.5l-.94 2.06-2.06.94zm10 10l.94 2.06.94-2.06 2.06-.94-2.06-.94-.94-2.06-.94 2.06-2.06.94z\"/><path d=\"M17.41 7.96l-1.37-1.37c-.4-.4-.92-.59-1.43-.59-.52 0-1.04.2-1.43.59L10.3 9.45l-7.72 7.72c-.78.78-.78 2.05 0 2.83L4 21.41c.39.39.9.59 1.41.59.51 0 1.02-.2 1.41-.59l7.78-7.78 2.81-2.81c.8-.78.8-2.07 0-2.86zM5.41 20L4 18.59l7.72-7.72 1.47 1.35L5.41 20z\"/>\n",
              "  </svg>\n",
              "      </button>\n",
              "      \n",
              "  <style>\n",
              "    .colab-df-container {\n",
              "      display:flex;\n",
              "      flex-wrap:wrap;\n",
              "      gap: 12px;\n",
              "    }\n",
              "\n",
              "    .colab-df-convert {\n",
              "      background-color: #E8F0FE;\n",
              "      border: none;\n",
              "      border-radius: 50%;\n",
              "      cursor: pointer;\n",
              "      display: none;\n",
              "      fill: #1967D2;\n",
              "      height: 32px;\n",
              "      padding: 0 0 0 0;\n",
              "      width: 32px;\n",
              "    }\n",
              "\n",
              "    .colab-df-convert:hover {\n",
              "      background-color: #E2EBFA;\n",
              "      box-shadow: 0px 1px 2px rgba(60, 64, 67, 0.3), 0px 1px 3px 1px rgba(60, 64, 67, 0.15);\n",
              "      fill: #174EA6;\n",
              "    }\n",
              "\n",
              "    [theme=dark] .colab-df-convert {\n",
              "      background-color: #3B4455;\n",
              "      fill: #D2E3FC;\n",
              "    }\n",
              "\n",
              "    [theme=dark] .colab-df-convert:hover {\n",
              "      background-color: #434B5C;\n",
              "      box-shadow: 0px 1px 3px 1px rgba(0, 0, 0, 0.15);\n",
              "      filter: drop-shadow(0px 1px 2px rgba(0, 0, 0, 0.3));\n",
              "      fill: #FFFFFF;\n",
              "    }\n",
              "  </style>\n",
              "\n",
              "      <script>\n",
              "        const buttonEl =\n",
              "          document.querySelector('#df-913736c3-a663-4c0b-8b9a-982d90c82af3 button.colab-df-convert');\n",
              "        buttonEl.style.display =\n",
              "          google.colab.kernel.accessAllowed ? 'block' : 'none';\n",
              "\n",
              "        async function convertToInteractive(key) {\n",
              "          const element = document.querySelector('#df-913736c3-a663-4c0b-8b9a-982d90c82af3');\n",
              "          const dataTable =\n",
              "            await google.colab.kernel.invokeFunction('convertToInteractive',\n",
              "                                                     [key], {});\n",
              "          if (!dataTable) return;\n",
              "\n",
              "          const docLinkHtml = 'Like what you see? Visit the ' +\n",
              "            '<a target=\"_blank\" href=https://colab.research.google.com/notebooks/data_table.ipynb>data table notebook</a>'\n",
              "            + ' to learn more about interactive tables.';\n",
              "          element.innerHTML = '';\n",
              "          dataTable['output_type'] = 'display_data';\n",
              "          await google.colab.output.renderOutput(dataTable, element);\n",
              "          const docLink = document.createElement('div');\n",
              "          docLink.innerHTML = docLinkHtml;\n",
              "          element.appendChild(docLink);\n",
              "        }\n",
              "      </script>\n",
              "    </div>\n",
              "  </div>\n",
              "  "
            ]
          },
          "metadata": {},
          "execution_count": 31
        }
      ]
    },
    {
      "cell_type": "markdown",
      "source": [
        "We will take only 6 samples from the Pandas series, and we should take the same number at the same interval to get a good comparative study."
      ],
      "metadata": {
        "id": "-ZM6jT1NP29N"
      },
      "id": "-ZM6jT1NP29N"
    },
    {
      "cell_type": "code",
      "source": [
        "x= (data_df_VW_ID_3['energie_consumption']).take([0,1,2,3,4,5])"
      ],
      "metadata": {
        "id": "cHVeSIPH85u9"
      },
      "id": "cHVeSIPH85u9",
      "execution_count": null,
      "outputs": []
    },
    {
      "cell_type": "code",
      "source": [
        "y=data_df_tesla_Model_Y['energie_consumption'].take([0,1,2,3,4,5])"
      ],
      "metadata": {
        "id": "ISg0wq_zDLMn"
      },
      "id": "ISg0wq_zDLMn",
      "execution_count": null,
      "outputs": []
    },
    {
      "cell_type": "markdown",
      "source": [
        "Interesting. It seems that there is not much difference in energy consumption between Tesla and *Volkswagen*. "
      ],
      "metadata": {
        "id": "zHd-NByUQJ0L"
      },
      "id": "zHd-NByUQJ0L"
    },
    {
      "cell_type": "code",
      "source": [
        "df2 = pd.DataFrame({'VW_ID_3':x,\n",
        "                    'tesla_Model_Y':y})\n",
        "df2.plot.bar();"
      ],
      "metadata": {
        "colab": {
          "base_uri": "https://localhost:8080/",
          "height": 262
        },
        "id": "2gSbVdgQ5g4i",
        "outputId": "4df23fec-fc0c-4904-986d-caebae060e69"
      },
      "id": "2gSbVdgQ5g4i",
      "execution_count": null,
      "outputs": [
        {
          "output_type": "display_data",
          "data": {
            "text/plain": [
              "<Figure size 432x288 with 1 Axes>"
            ],
            "image/png": "[encoded data removed]"
          },
          "metadata": {
            "needs_background": "light"
          }
        }
      ]
    },
    {
      "cell_type": "code",
      "source": [
        "tesla_Model_Y = data_df_tesla_Model_Y['energie_consumption']\n",
        "tesla_Model_Y.hist()"
      ],
      "metadata": {
        "colab": {
          "base_uri": "https://localhost:8080/",
          "height": 282
        },
        "id": "HNe4pBWMFoGF",
        "outputId": "e840f643-9fe6-40bc-c3ed-a2b669841f33"
      },
      "id": "HNe4pBWMFoGF",
      "execution_count": null,
      "outputs": [
        {
          "output_type": "execute_result",
          "data": {
            "text/plain": [
              "<matplotlib.axes._subplots.AxesSubplot at 0x7ffba2b8f490>"
            ]
          },
          "metadata": {},
          "execution_count": 46
        },
        {
          "output_type": "display_data",
          "data": {
            "text/plain": [
              "<Figure size 432x288 with 1 Axes>"
            ],
            "image/png": "[encoded data removed]"
          },
          "metadata": {
            "needs_background": "light"
          }
        }
      ]
    },
    {
      "cell_type": "code",
      "source": [
        "VW_ID_3 = data_df_VW_ID_3['energie_consumption']\n",
        "VW_ID_3.hist()"
      ],
      "metadata": {
        "colab": {
          "base_uri": "https://localhost:8080/",
          "height": 282
        },
        "id": "5WOgwsd32T6L",
        "outputId": "8142ec3f-fa67-4380-b31f-5450455cf8a1"
      },
      "id": "5WOgwsd32T6L",
      "execution_count": null,
      "outputs": [
        {
          "output_type": "execute_result",
          "data": {
            "text/plain": [
              "<matplotlib.axes._subplots.AxesSubplot at 0x7ffbb375a290>"
            ]
          },
          "metadata": {},
          "execution_count": 18
        },
        {
          "output_type": "display_data",
          "data": {
            "text/plain": [
              "<Figure size 432x288 with 1 Axes>"
            ],
            "image/png": "[encoded data removed]"
          },
          "metadata": {
            "needs_background": "light"
          }
        }
      ]
    },
    {
      "cell_type": "markdown",
      "source": [
        "# Correlation Study"
      ],
      "metadata": {
        "id": "uIUOwj_MRFOE"
      },
      "id": "uIUOwj_MRFOE"
    },
    {
      "cell_type": "markdown",
      "source": [
        "**Correlation between the number of turns per minute of the motor and the speed of the car:**"
      ],
      "metadata": {
        "id": "VSP6yJtcNKaO"
      },
      "id": "VSP6yJtcNKaO"
    },
    {
      "cell_type": "code",
      "source": [
        "motor_speed_df = data_df.select(col(\"eMotor.rpmEmotor\"),col(\"driveState.speed\")).sample(False, 0.06, 200)\n",
        "motor_speed_df_pandas=motor_speed_df.toPandas()"
      ],
      "metadata": {
        "id": "gt65_IqsNUbe"
      },
      "id": "gt65_IqsNUbe",
      "execution_count": 6,
      "outputs": []
    },
    {
      "cell_type": "code",
      "source": [
        "x=np.array(motor_speed_df_pandas[\"rpmEmotor\"])\n",
        "y=np.array(motor_speed_df_pandas[\"speed\"])\n",
        "ouTemp=[]\n",
        "for i in x :\n",
        "  if (isinstance(i,list)):\n",
        "    ouTemp= ouTemp+i[0]\n",
        "  else : \n",
        "    np.append(ouTemp,i)\n",
        "\n",
        "OT=[]\n",
        "for f in ouTemp :\n",
        "  OT=OT+f\n",
        "\n",
        "\n",
        "BattTemp=[]\n",
        "for i in y :\n",
        "  if (isinstance(i,list)):\n",
        "    BattTemp= BattTemp+i[0]\n",
        "  else : \n",
        "    np.append(BattTemp,i)\n",
        "\n",
        "BT=[]\n",
        "for f in BattTemp :\n",
        "  BT=BT+f\n",
        "\n"
      ],
      "metadata": {
        "id": "bWNKMLTQV1Fr"
      },
      "id": "bWNKMLTQV1Fr",
      "execution_count": 12,
      "outputs": []
    },
    {
      "cell_type": "code",
      "source": [
        "OT_df = pd.DataFrame(OT)\n",
        "BT_df=pd.DataFrame(BT)\n",
        "OT_df.rename(columns={0:'rpmEmotor'}, inplace = True)\n",
        "BT_df.rename(columns={0:'speed'}, inplace = True)\n",
        "result = pd.concat([OT_df, BT_df], axis=1)"
      ],
      "metadata": {
        "id": "AceqwhT2NIBb"
      },
      "id": "AceqwhT2NIBb",
      "execution_count": 13,
      "outputs": []
    },
    {
      "cell_type": "code",
      "source": [
        "result[\"rpmEmotor\"].corr(result[\"speed\"])\n"
      ],
      "metadata": {
        "colab": {
          "base_uri": "https://localhost:8080/"
        },
        "id": "zi_qVxO9ONNQ",
        "outputId": "9426101d-b510-42c7-ac80-d2c51d904be9"
      },
      "id": "zi_qVxO9ONNQ",
      "execution_count": 14,
      "outputs": [
        {
          "output_type": "execute_result",
          "data": {
            "text/plain": [
              "0.999995288569794"
            ]
          },
          "metadata": {},
          "execution_count": 14
        }
      ]
    },
    {
      "cell_type": "markdown",
      "source": [
        "I'm curious about the relationship between the speed and the longitude of a vehicle, so let's calculate the correlation between them."
      ],
      "metadata": {
        "id": "YzloZCO7R_Ng"
      },
      "id": "YzloZCO7R_Ng"
    },
    {
      "cell_type": "code",
      "source": [
        "longitude_speed_df = data_df.select(col(\"driveState.speed\"),col(\"driveState.longitude\")).sample(False, 0.06, 200)\n",
        "longitude_speed_df_pandas=longitude_speed_df.toPandas()\n",
        "z=np.array(longitude_speed_df_pandas[\"longitude\"])\n",
        "longi=[]\n",
        "for i in z :\n",
        "  if (isinstance(i,list)):\n",
        "    longi= longi+i\n",
        "  else : \n",
        "    np.append(longi,i)\n",
        "\n",
        "longitude=[]\n",
        "for f in longi :\n",
        "  longitude=longitude+f\n",
        "\n",
        "longi_df=pd.DataFrame(longitude)\n",
        "longi_df.rename(columns={0:'longitude'}, inplace = True)\n"
      ],
      "metadata": {
        "id": "CtQ4Wl7DRTUT"
      },
      "id": "CtQ4Wl7DRTUT",
      "execution_count": 23,
      "outputs": []
    },
    {
      "cell_type": "code",
      "source": [
        "longitude_speed = pd.concat([longi_df, BT_df], axis=1)\n",
        "longitude_speed[\"longitude\"].corr(longitude_speed[\"speed\"])\n"
      ],
      "metadata": {
        "id": "zYWbzXYWR8NL",
        "colab": {
          "base_uri": "https://localhost:8080/"
        },
        "outputId": "4f78c2be-f3be-41ab-a134-fc636212546c"
      },
      "id": "zYWbzXYWR8NL",
      "execution_count": 24,
      "outputs": [
        {
          "output_type": "execute_result",
          "data": {
            "text/plain": [
              "0.9999957434955266"
            ]
          },
          "metadata": {},
          "execution_count": 24
        }
      ]
    },
    {
      "cell_type": "markdown",
      "source": [
        "\n",
        "After studying the correlation between the above columns, we can conclude the following:\n",
        "\n",
        "\n",
        "\n",
        "*   The correlation between speed and the rmpEmotor is very weak, which is logical.\n",
        "\n",
        "*   The correlation between the speed and the length of the vehicle is also very weak, confirming that the design of the vehicle has an influence on its mechanical behavior. \n",
        "\n",
        "* The correlation between speed and both longitude and rpmEmotor shows that there is a weak positive linear relationship between the variables, which can help predict the speed with only one of them, since they have the same correlation with the variable \"speed\".\n",
        "\n",
        "\n",
        "\n"
      ],
      "metadata": {
        "id": "or-DWoolUdJM"
      },
      "id": "or-DWoolUdJM"
    },
    {
      "cell_type": "markdown",
      "source": [
        "# Conclusion\n",
        "\n",
        "Conclusion and potential work: After extracting numerous pieces of information from the given datasets, and after studying the relationship between different columns, we might say that the data is rich and has many insights, even though some of them are ambiguous. From there, we can implement a supervised model which predicts the energy consumption of an electrical car, or even we can go further and try to cluster different data using unsupervised models to get more insights and relation between the columns. Overall, the dataset is interesting enough to do more interesting work, and even some extra columns could result in better modeling."
      ],
      "metadata": {
        "id": "IVhIJihFHokg"
      },
      "id": "IVhIJihFHokg"
    }
  ],
  "metadata": {
    "colab": {
      "collapsed_sections": [],
      "name": "e-Clever technical test",
      "provenance": [],
      "toc_visible": true,
      "include_colab_link": true
    },
    "kernelspec": {
      "display_name": "Python 3",
      "language": "python",
      "name": "python3"
    },
    "language_info": {
      "codemirror_mode": {
        "name": "ipython",
        "version": 3
      },
      "file_extension": ".py",
      "mimetype": "text/x-python",
      "name": "python",
      "nbconvert_exporter": "python",
      "pygments_lexer": "ipython3",
      "version": "3.8.8"
    }
  },
  "nbformat": 4,
  "nbformat_minor": 5
}